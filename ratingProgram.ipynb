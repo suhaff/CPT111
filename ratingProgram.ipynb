{
  "cells": [
    {
      "cell_type": "code",
      "execution_count": 31,
      "metadata": {
        "colab": {
          "base_uri": "https://localhost:8080/"
        },
        "id": "FU30ZqPVTt6u",
        "outputId": "0ee7505a-0a57-4b41-b181-5b2abc8ad449"
      },
      "outputs": [
        {
          "output_type": "stream",
          "name": "stdout",
          "text": [
            "Overwriting books.txt\n"
          ]
        }
      ],
      "source": [
        "%%writefile books.txt\n",
        "bac001    Data Structure and Object-Oriented Programming\n",
        "bsf002    The 5 Personality Patterns\n",
        "bcs003    The Little Red Riding Hood\n",
        "bsf004    I Wish You More"
      ]
    },
    {
      "cell_type": "code",
      "execution_count": 32,
      "metadata": {
        "colab": {
          "base_uri": "https://localhost:8080/"
        },
        "id": "laDSrGEwVaXj",
        "outputId": "d60f1a66-2dba-411f-f761-17f4f7c1f72e"
      },
      "outputs": [
        {
          "output_type": "stream",
          "name": "stdout",
          "text": [
            "Overwriting reviews.txt\n"
          ]
        }
      ],
      "source": [
        "%%writefile reviews.txt\n",
        "\n",
        "bac001    reen123    3    okayish book\n",
        "bac001    lim1212    4    it is a textbook. What do you expect?\n",
        "bsf002    kessler12  5    eye-opening book. Must read!\n",
        "bcs003    mom999     5    nice illustration. Easy to read out\n",
        "bsf004    george88   2    the wordings may be a bit hard for kid"
      ]
    },
    {
      "cell_type": "code",
      "execution_count": 33,
      "metadata": {
        "colab": {
          "base_uri": "https://localhost:8080/"
        },
        "id": "_FddZtHVVex7",
        "outputId": "c5ada302-08a7-4102-c345-860366c49bde"
      },
      "outputs": [
        {
          "output_type": "stream",
          "name": "stdout",
          "text": [
            "Overwriting rating.txt\n"
          ]
        }
      ],
      "source": [
        "%%writefile rating.txt\n",
        "bac001    10    3    4\n",
        "bsf002    15    4    5\n",
        "bcs003    4    5    5\n",
        "bsf004    8    3    5"
      ]
    },
    {
      "cell_type": "code",
      "source": [
        "%%writefile ratingProgram.cpp\n",
        "\n",
        "/*\n",
        "This program is developed by: Numaan Suhaff\n",
        "Date: 4th January 2025\n",
        "\n",
        "Project Title: Book Rating System\n",
        "*/\n",
        "\n",
        "#include <iostream>\n",
        "#include <fstream>\n",
        "#include <vector>\n",
        "#include <map>\n",
        "#include <string>\n",
        "#include <sstream>\n",
        "using namespace std;\n",
        "\n",
        "struct Book {\n",
        "    string bookID;\n",
        "    string title;\n",
        "};\n",
        "\n",
        "struct Review {\n",
        "    string bookID;\n",
        "    string username;\n",
        "    int rating;\n",
        "    string comment;\n",
        "};\n",
        "\n",
        "void loadBooks(const string &filename, map<string, Book> &books) {\n",
        "    ifstream file(filename);\n",
        "    if (!file) {\n",
        "        cout << \"Error opening books file.\" << endl;\n",
        "        return;\n",
        "    }\n",
        "\n",
        "    string bookID, bookTitle;\n",
        "    while (file >> bookID) {\n",
        "        getline(file, bookTitle);\n",
        "        books[bookID] = {bookID, bookTitle};\n",
        "    }\n",
        "    file.close();\n",
        "}\n",
        "\n",
        "void loadReviews(const string &filename, vector<Review> &reviews) {\n",
        "    ifstream file(filename);\n",
        "    if (!file) {\n",
        "        cout << \"Error opening reviews file.\" << endl;\n",
        "        return;\n",
        "    }\n",
        "\n",
        "    string line;\n",
        "    while (getline(file, line)) {\n",
        "        stringstream ss(line);\n",
        "        string bookID, username, comment;\n",
        "        int rating;\n",
        "        ss >> bookID >> username >> rating;\n",
        "        getline(ss, comment);\n",
        "        reviews.push_back({bookID, username, rating, comment});\n",
        "    }\n",
        "    file.close();\n",
        "}\n",
        "\n",
        "void displayReviews(const string &bookID, const vector<Review> &reviews) {\n",
        "    cout << \"Reviews for Book ID: \" << bookID << endl;\n",
        "    bool found = false;\n",
        "    for (const auto &review : reviews) {\n",
        "        if (review.bookID == bookID) {\n",
        "            cout << \"- User: \" << review.username << \", Rating: \" << review.rating\n",
        "                 << \", Comment: \" << review.comment << endl;\n",
        "            found = true;\n",
        "        }\n",
        "    }\n",
        "    if (!found) {\n",
        "        cout << \"No reviews found for this book.\" << endl;\n",
        "    }\n",
        "}\n",
        "\n",
        "void addReview(vector<Review> &reviews, const map<string, Book> &books, const string &filename) {\n",
        "    string bookID, username, comment;\n",
        "    int rating;\n",
        "\n",
        "    cout << \"Enter book ID: \";\n",
        "    cin >> bookID;\n",
        "\n",
        "    // Validate bookID using the books map\n",
        "    if (books.find(bookID) == books.end()) {\n",
        "        cout << \"Invalid book ID.\" << endl;\n",
        "        return;\n",
        "    }\n",
        "\n",
        "    cout << \"Enter username: \";\n",
        "    cin >> username;\n",
        "    cout << \"Enter rating (1-5): \";\n",
        "    cin >> rating;\n",
        "    cin.ignore(); // To ignore leftover newline character\n",
        "    cout << \"Enter your comment: \";\n",
        "    getline(cin, comment);\n",
        "\n",
        "    // Add new review to vector\n",
        "    Review newReview = {bookID, username, rating, comment};\n",
        "    reviews.push_back(newReview);\n",
        "\n",
        "    // Append the new review to the reviews file\n",
        "    ofstream file(filename, ios::app); // Append mode\n",
        "    if (file) {\n",
        "        file << bookID << \"\\t\" << username << \"\\t\" << rating << \"\\t\" << comment << endl;\n",
        "        file.close();\n",
        "        cout << \"Review added successfully.\" << endl;\n",
        "    } else {\n",
        "        cout << \"Error saving review to file.\" << endl;\n",
        "    }\n",
        "}\n",
        "\n",
        "int main() {\n",
        "    vector<Review> reviews;\n",
        "    map<string, Book> books;\n",
        "\n",
        "    // Load books and reviews\n",
        "    loadBooks(\"books.txt\", books);\n",
        "    loadReviews(\"reviews.txt\", reviews);\n",
        "\n",
        "    int choice;\n",
        "    do {\n",
        "        cout << \"\\n--- Book Rating System ---\\n\";\n",
        "        cout << \"1. Display reviews by book ID\\n\";\n",
        "        cout << \"2. Add a new review\\n\";\n",
        "        cout << \"3. Exit\\n\";\n",
        "        cout << \"Enter your choice: \";\n",
        "        cin >> choice;\n",
        "\n",
        "        switch (choice) {\n",
        "            case 1: {\n",
        "                string bookID;\n",
        "                cout << \"Enter book ID: \";\n",
        "                cin >> bookID;\n",
        "                displayReviews(bookID, reviews);\n",
        "                break;\n",
        "            }\n",
        "            case 2: {\n",
        "                addReview(reviews, books, \"reviews.txt\");\n",
        "                break;\n",
        "            }\n",
        "            case 3:\n",
        "                cout << \"Exiting program. Changes saved.\" << endl;\n",
        "                break;\n",
        "            default:\n",
        "                cout << \"Invalid choice. Please try again.\" << endl;\n",
        "        }\n",
        "    } while (choice != 3);\n",
        "\n",
        "    return 0;\n",
        "}\n"
      ],
      "metadata": {
        "colab": {
          "base_uri": "https://localhost:8080/"
        },
        "id": "1NSyvjb4fCWl",
        "outputId": "dc35e9cc-9530-4e0a-cd19-57fb4ea26b68"
      },
      "execution_count": 34,
      "outputs": [
        {
          "output_type": "stream",
          "name": "stdout",
          "text": [
            "Overwriting ratingProgram.cpp\n"
          ]
        }
      ]
    },
    {
      "cell_type": "markdown",
      "metadata": {
        "id": "vQseoYfRb6Q3"
      },
      "source": []
    },
    {
      "cell_type": "code",
      "execution_count": 23,
      "metadata": {
        "colab": {
          "base_uri": "https://localhost:8080/"
        },
        "id": "n5sMa_wEYRRv",
        "outputId": "ad55cd09-7f35-4f40-ff54-98c542291bfd"
      },
      "outputs": [
        {
          "output_type": "stream",
          "name": "stdout",
          "text": [
            "Book ID: bac001, Title: Data Structure and Object-Oriented Programming\n",
            "Book ID: bsf002, Title: The 5 Personality Patterns\n",
            "Book ID: bcs003, Title: The Little Red Riding Hood\n",
            "Book ID: bsf004, Title: I Wish You More\n",
            "\n",
            "\n",
            "\n",
            "bac001    reen123    3    okayish book\n",
            "bac001    lim1212    4    it is a textbook. What do you expect?\n",
            "bsf002    kessler12  5    eye-opening book. Must read!\n",
            "bcs003    mom999     5    nice illustration. Easy to read out\n",
            "bsf004    george88   2    the wordings may be a bit hard for kid\n",
            "\n",
            "\n",
            "\n",
            "bac001 10 3\n",
            "\n"
          ]
        }
      ],
      "source": [
        "# Read and display the updated file contents\n",
        "with open(\"books.txt\", \"r\") as file:\n",
        "    print(file.read())\n",
        "\n",
        "with open(\"review.txt\", \"r\") as file:\n",
        "    print(file.read())\n",
        "\n",
        "with open(\"rating.txt\", \"r\") as file:\n",
        "    print(file.read())\n"
      ]
    },
    {
      "cell_type": "code",
      "execution_count": 24,
      "metadata": {
        "colab": {
          "base_uri": "https://localhost:8080/",
          "height": 17
        },
        "id": "U1JBeZQQYUTa",
        "outputId": "5d5ff0d3-9d0c-4fe0-b6a1-e778f50caa81"
      },
      "outputs": [
        {
          "output_type": "display_data",
          "data": {
            "text/plain": [
              "<IPython.core.display.Javascript object>"
            ],
            "application/javascript": [
              "\n",
              "    async function download(id, filename, size) {\n",
              "      if (!google.colab.kernel.accessAllowed) {\n",
              "        return;\n",
              "      }\n",
              "      const div = document.createElement('div');\n",
              "      const label = document.createElement('label');\n",
              "      label.textContent = `Downloading \"${filename}\": `;\n",
              "      div.appendChild(label);\n",
              "      const progress = document.createElement('progress');\n",
              "      progress.max = size;\n",
              "      div.appendChild(progress);\n",
              "      document.body.appendChild(div);\n",
              "\n",
              "      const buffers = [];\n",
              "      let downloaded = 0;\n",
              "\n",
              "      const channel = await google.colab.kernel.comms.open(id);\n",
              "      // Send a message to notify the kernel that we're ready.\n",
              "      channel.send({})\n",
              "\n",
              "      for await (const message of channel.messages) {\n",
              "        // Send a message to notify the kernel that we're ready.\n",
              "        channel.send({})\n",
              "        if (message.buffers) {\n",
              "          for (const buffer of message.buffers) {\n",
              "            buffers.push(buffer);\n",
              "            downloaded += buffer.byteLength;\n",
              "            progress.value = downloaded;\n",
              "          }\n",
              "        }\n",
              "      }\n",
              "      const blob = new Blob(buffers, {type: 'application/binary'});\n",
              "      const a = document.createElement('a');\n",
              "      a.href = window.URL.createObjectURL(blob);\n",
              "      a.download = filename;\n",
              "      div.appendChild(a);\n",
              "      a.click();\n",
              "      div.remove();\n",
              "    }\n",
              "  "
            ]
          },
          "metadata": {}
        },
        {
          "output_type": "display_data",
          "data": {
            "text/plain": [
              "<IPython.core.display.Javascript object>"
            ],
            "application/javascript": [
              "download(\"download_976c86a4-e84f-4059-8471-06aac82324ec\", \"books.txt\", 214)"
            ]
          },
          "metadata": {}
        },
        {
          "output_type": "display_data",
          "data": {
            "text/plain": [
              "<IPython.core.display.Javascript object>"
            ],
            "application/javascript": [
              "\n",
              "    async function download(id, filename, size) {\n",
              "      if (!google.colab.kernel.accessAllowed) {\n",
              "        return;\n",
              "      }\n",
              "      const div = document.createElement('div');\n",
              "      const label = document.createElement('label');\n",
              "      label.textContent = `Downloading \"${filename}\": `;\n",
              "      div.appendChild(label);\n",
              "      const progress = document.createElement('progress');\n",
              "      progress.max = size;\n",
              "      div.appendChild(progress);\n",
              "      document.body.appendChild(div);\n",
              "\n",
              "      const buffers = [];\n",
              "      let downloaded = 0;\n",
              "\n",
              "      const channel = await google.colab.kernel.comms.open(id);\n",
              "      // Send a message to notify the kernel that we're ready.\n",
              "      channel.send({})\n",
              "\n",
              "      for await (const message of channel.messages) {\n",
              "        // Send a message to notify the kernel that we're ready.\n",
              "        channel.send({})\n",
              "        if (message.buffers) {\n",
              "          for (const buffer of message.buffers) {\n",
              "            buffers.push(buffer);\n",
              "            downloaded += buffer.byteLength;\n",
              "            progress.value = downloaded;\n",
              "          }\n",
              "        }\n",
              "      }\n",
              "      const blob = new Blob(buffers, {type: 'application/binary'});\n",
              "      const a = document.createElement('a');\n",
              "      a.href = window.URL.createObjectURL(blob);\n",
              "      a.download = filename;\n",
              "      div.appendChild(a);\n",
              "      a.click();\n",
              "      div.remove();\n",
              "    }\n",
              "  "
            ]
          },
          "metadata": {}
        },
        {
          "output_type": "display_data",
          "data": {
            "text/plain": [
              "<IPython.core.display.Javascript object>"
            ],
            "application/javascript": [
              "download(\"download_6b939737-83b2-4c1b-a911-f3626527fac8\", \"review.txt\", 288)"
            ]
          },
          "metadata": {}
        },
        {
          "output_type": "display_data",
          "data": {
            "text/plain": [
              "<IPython.core.display.Javascript object>"
            ],
            "application/javascript": [
              "\n",
              "    async function download(id, filename, size) {\n",
              "      if (!google.colab.kernel.accessAllowed) {\n",
              "        return;\n",
              "      }\n",
              "      const div = document.createElement('div');\n",
              "      const label = document.createElement('label');\n",
              "      label.textContent = `Downloading \"${filename}\": `;\n",
              "      div.appendChild(label);\n",
              "      const progress = document.createElement('progress');\n",
              "      progress.max = size;\n",
              "      div.appendChild(progress);\n",
              "      document.body.appendChild(div);\n",
              "\n",
              "      const buffers = [];\n",
              "      let downloaded = 0;\n",
              "\n",
              "      const channel = await google.colab.kernel.comms.open(id);\n",
              "      // Send a message to notify the kernel that we're ready.\n",
              "      channel.send({})\n",
              "\n",
              "      for await (const message of channel.messages) {\n",
              "        // Send a message to notify the kernel that we're ready.\n",
              "        channel.send({})\n",
              "        if (message.buffers) {\n",
              "          for (const buffer of message.buffers) {\n",
              "            buffers.push(buffer);\n",
              "            downloaded += buffer.byteLength;\n",
              "            progress.value = downloaded;\n",
              "          }\n",
              "        }\n",
              "      }\n",
              "      const blob = new Blob(buffers, {type: 'application/binary'});\n",
              "      const a = document.createElement('a');\n",
              "      a.href = window.URL.createObjectURL(blob);\n",
              "      a.download = filename;\n",
              "      div.appendChild(a);\n",
              "      a.click();\n",
              "      div.remove();\n",
              "    }\n",
              "  "
            ]
          },
          "metadata": {}
        },
        {
          "output_type": "display_data",
          "data": {
            "text/plain": [
              "<IPython.core.display.Javascript object>"
            ],
            "application/javascript": [
              "download(\"download_dfe71fda-3eed-4cb5-be14-b2e038267a8e\", \"rating.txt\", 12)"
            ]
          },
          "metadata": {}
        }
      ],
      "source": [
        "from google.colab import files\n",
        "files.download(\"books.txt\")\n",
        "files.download(\"review.txt\")\n",
        "files.download(\"rating.txt\")\n"
      ]
    },
    {
      "cell_type": "code",
      "execution_count": 17,
      "metadata": {
        "colab": {
          "base_uri": "https://localhost:8080/"
        },
        "id": "-9kGk3-1ZeeT",
        "outputId": "b82e7cb5-ba69-44bf-88c9-b00490d7b79a"
      },
      "outputs": [
        {
          "output_type": "stream",
          "name": "stdout",
          "text": [
            "Book ID: bac001, Title: Data Structure and Object-Oriented Programming\n",
            "Book ID: bsf002, Title: The 5 Personality Patterns\n",
            "Book ID: bcs003, Title: The Little Red Riding Hood\n",
            "Book ID: bsf004, Title: I Wish You More\n",
            "\n",
            "\n"
          ]
        }
      ],
      "source": [
        "import os\n",
        "with open(\"books.txt\",\"r\") as file:\n",
        "    print(file.read())"
      ]
    },
    {
      "cell_type": "code",
      "source": [
        "from google.colab import files\n",
        "uploaded = files.upload()\n"
      ],
      "metadata": {
        "colab": {
          "base_uri": "https://localhost:8080/",
          "height": 73
        },
        "id": "L6BXmoD6TvUW",
        "outputId": "be492df1-719a-4a66-8c42-38214b8c7bbb"
      },
      "execution_count": 25,
      "outputs": [
        {
          "output_type": "display_data",
          "data": {
            "text/plain": [
              "<IPython.core.display.HTML object>"
            ],
            "text/html": [
              "\n",
              "     <input type=\"file\" id=\"files-6a5493cb-a3ee-4c77-a2ba-5bd6eb19db82\" name=\"files[]\" multiple disabled\n",
              "        style=\"border:none\" />\n",
              "     <output id=\"result-6a5493cb-a3ee-4c77-a2ba-5bd6eb19db82\">\n",
              "      Upload widget is only available when the cell has been executed in the\n",
              "      current browser session. Please rerun this cell to enable.\n",
              "      </output>\n",
              "      <script>// Copyright 2017 Google LLC\n",
              "//\n",
              "// Licensed under the Apache License, Version 2.0 (the \"License\");\n",
              "// you may not use this file except in compliance with the License.\n",
              "// You may obtain a copy of the License at\n",
              "//\n",
              "//      http://www.apache.org/licenses/LICENSE-2.0\n",
              "//\n",
              "// Unless required by applicable law or agreed to in writing, software\n",
              "// distributed under the License is distributed on an \"AS IS\" BASIS,\n",
              "// WITHOUT WARRANTIES OR CONDITIONS OF ANY KIND, either express or implied.\n",
              "// See the License for the specific language governing permissions and\n",
              "// limitations under the License.\n",
              "\n",
              "/**\n",
              " * @fileoverview Helpers for google.colab Python module.\n",
              " */\n",
              "(function(scope) {\n",
              "function span(text, styleAttributes = {}) {\n",
              "  const element = document.createElement('span');\n",
              "  element.textContent = text;\n",
              "  for (const key of Object.keys(styleAttributes)) {\n",
              "    element.style[key] = styleAttributes[key];\n",
              "  }\n",
              "  return element;\n",
              "}\n",
              "\n",
              "// Max number of bytes which will be uploaded at a time.\n",
              "const MAX_PAYLOAD_SIZE = 100 * 1024;\n",
              "\n",
              "function _uploadFiles(inputId, outputId) {\n",
              "  const steps = uploadFilesStep(inputId, outputId);\n",
              "  const outputElement = document.getElementById(outputId);\n",
              "  // Cache steps on the outputElement to make it available for the next call\n",
              "  // to uploadFilesContinue from Python.\n",
              "  outputElement.steps = steps;\n",
              "\n",
              "  return _uploadFilesContinue(outputId);\n",
              "}\n",
              "\n",
              "// This is roughly an async generator (not supported in the browser yet),\n",
              "// where there are multiple asynchronous steps and the Python side is going\n",
              "// to poll for completion of each step.\n",
              "// This uses a Promise to block the python side on completion of each step,\n",
              "// then passes the result of the previous step as the input to the next step.\n",
              "function _uploadFilesContinue(outputId) {\n",
              "  const outputElement = document.getElementById(outputId);\n",
              "  const steps = outputElement.steps;\n",
              "\n",
              "  const next = steps.next(outputElement.lastPromiseValue);\n",
              "  return Promise.resolve(next.value.promise).then((value) => {\n",
              "    // Cache the last promise value to make it available to the next\n",
              "    // step of the generator.\n",
              "    outputElement.lastPromiseValue = value;\n",
              "    return next.value.response;\n",
              "  });\n",
              "}\n",
              "\n",
              "/**\n",
              " * Generator function which is called between each async step of the upload\n",
              " * process.\n",
              " * @param {string} inputId Element ID of the input file picker element.\n",
              " * @param {string} outputId Element ID of the output display.\n",
              " * @return {!Iterable<!Object>} Iterable of next steps.\n",
              " */\n",
              "function* uploadFilesStep(inputId, outputId) {\n",
              "  const inputElement = document.getElementById(inputId);\n",
              "  inputElement.disabled = false;\n",
              "\n",
              "  const outputElement = document.getElementById(outputId);\n",
              "  outputElement.innerHTML = '';\n",
              "\n",
              "  const pickedPromise = new Promise((resolve) => {\n",
              "    inputElement.addEventListener('change', (e) => {\n",
              "      resolve(e.target.files);\n",
              "    });\n",
              "  });\n",
              "\n",
              "  const cancel = document.createElement('button');\n",
              "  inputElement.parentElement.appendChild(cancel);\n",
              "  cancel.textContent = 'Cancel upload';\n",
              "  const cancelPromise = new Promise((resolve) => {\n",
              "    cancel.onclick = () => {\n",
              "      resolve(null);\n",
              "    };\n",
              "  });\n",
              "\n",
              "  // Wait for the user to pick the files.\n",
              "  const files = yield {\n",
              "    promise: Promise.race([pickedPromise, cancelPromise]),\n",
              "    response: {\n",
              "      action: 'starting',\n",
              "    }\n",
              "  };\n",
              "\n",
              "  cancel.remove();\n",
              "\n",
              "  // Disable the input element since further picks are not allowed.\n",
              "  inputElement.disabled = true;\n",
              "\n",
              "  if (!files) {\n",
              "    return {\n",
              "      response: {\n",
              "        action: 'complete',\n",
              "      }\n",
              "    };\n",
              "  }\n",
              "\n",
              "  for (const file of files) {\n",
              "    const li = document.createElement('li');\n",
              "    li.append(span(file.name, {fontWeight: 'bold'}));\n",
              "    li.append(span(\n",
              "        `(${file.type || 'n/a'}) - ${file.size} bytes, ` +\n",
              "        `last modified: ${\n",
              "            file.lastModifiedDate ? file.lastModifiedDate.toLocaleDateString() :\n",
              "                                    'n/a'} - `));\n",
              "    const percent = span('0% done');\n",
              "    li.appendChild(percent);\n",
              "\n",
              "    outputElement.appendChild(li);\n",
              "\n",
              "    const fileDataPromise = new Promise((resolve) => {\n",
              "      const reader = new FileReader();\n",
              "      reader.onload = (e) => {\n",
              "        resolve(e.target.result);\n",
              "      };\n",
              "      reader.readAsArrayBuffer(file);\n",
              "    });\n",
              "    // Wait for the data to be ready.\n",
              "    let fileData = yield {\n",
              "      promise: fileDataPromise,\n",
              "      response: {\n",
              "        action: 'continue',\n",
              "      }\n",
              "    };\n",
              "\n",
              "    // Use a chunked sending to avoid message size limits. See b/62115660.\n",
              "    let position = 0;\n",
              "    do {\n",
              "      const length = Math.min(fileData.byteLength - position, MAX_PAYLOAD_SIZE);\n",
              "      const chunk = new Uint8Array(fileData, position, length);\n",
              "      position += length;\n",
              "\n",
              "      const base64 = btoa(String.fromCharCode.apply(null, chunk));\n",
              "      yield {\n",
              "        response: {\n",
              "          action: 'append',\n",
              "          file: file.name,\n",
              "          data: base64,\n",
              "        },\n",
              "      };\n",
              "\n",
              "      let percentDone = fileData.byteLength === 0 ?\n",
              "          100 :\n",
              "          Math.round((position / fileData.byteLength) * 100);\n",
              "      percent.textContent = `${percentDone}% done`;\n",
              "\n",
              "    } while (position < fileData.byteLength);\n",
              "  }\n",
              "\n",
              "  // All done.\n",
              "  yield {\n",
              "    response: {\n",
              "      action: 'complete',\n",
              "    }\n",
              "  };\n",
              "}\n",
              "\n",
              "scope.google = scope.google || {};\n",
              "scope.google.colab = scope.google.colab || {};\n",
              "scope.google.colab._files = {\n",
              "  _uploadFiles,\n",
              "  _uploadFilesContinue,\n",
              "};\n",
              "})(self);\n",
              "</script> "
            ]
          },
          "metadata": {}
        },
        {
          "output_type": "stream",
          "name": "stdout",
          "text": [
            "Saving ratingProgram.ipynb to ratingProgram (2).ipynb\n"
          ]
        }
      ]
    },
    {
      "cell_type": "code",
      "source": [
        "!ls\n",
        "\n"
      ],
      "metadata": {
        "colab": {
          "base_uri": "https://localhost:8080/"
        },
        "id": "fXOzUWseUDtb",
        "outputId": "68148db0-5c7f-4b33-9dd1-b06b95b7e112"
      },
      "execution_count": 27,
      "outputs": [
        {
          "output_type": "stream",
          "name": "stdout",
          "text": [
            " books.txt\t 'ratingProgram (1).ipynb'   ratingProgram.ipynb   review.txt\n",
            " individual.txt  'ratingProgram (2).ipynb'   rating.txt\t\t   sample_data\n",
            " ratingProgram\t  ratingProgram.cpp\t     reviews.txt\n"
          ]
        }
      ]
    },
    {
      "cell_type": "code",
      "source": [
        "%%shell\n",
        "g++ ratingProgram.cpp -o ratingProgram\n",
        "./ratingProgram"
      ],
      "metadata": {
        "colab": {
          "base_uri": "https://localhost:8080/"
        },
        "id": "_63xlzPDaYTQ",
        "outputId": "624da851-0f27-46d1-ceaf-e712472b8ea7"
      },
      "execution_count": 36,
      "outputs": [
        {
          "output_type": "stream",
          "name": "stdout",
          "text": [
            "\n",
            "--- Book Rating System ---\n",
            "1. Display reviews by book ID\n",
            "2. Add a new review\n",
            "3. Exit\n",
            "Enter your choice: 1\n",
            "Enter book ID: bac001\n",
            "Reviews for Book ID: bac001\n",
            "- User: reen123, Rating: 3, Comment:     okayish book\n",
            "- User: lim1212, Rating: 4, Comment:     it is a textbook. What do you expect?\n",
            "- User: ns0216, Rating: 2, Comment: \tpretty boring book\n",
            "\n",
            "--- Book Rating System ---\n",
            "1. Display reviews by book ID\n",
            "2. Add a new review\n",
            "3. Exit\n",
            "Enter your choice: 3\n",
            "Exiting program. Changes saved.\n"
          ]
        },
        {
          "output_type": "execute_result",
          "data": {
            "text/plain": []
          },
          "metadata": {},
          "execution_count": 36
        }
      ]
    }
  ],
  "metadata": {
    "colab": {
      "provenance": []
    },
    "kernelspec": {
      "display_name": "Python 3",
      "name": "python3"
    },
    "language_info": {
      "name": "python"
    }
  },
  "nbformat": 4,
  "nbformat_minor": 0
}