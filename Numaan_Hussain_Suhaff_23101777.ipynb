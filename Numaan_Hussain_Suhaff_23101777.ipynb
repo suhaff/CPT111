{
  "cells": [
    {
      "cell_type": "markdown",
      "source": [
        "# Numaan Hussain Suhaff (23101777)\n",
        "\n",
        "---\n",
        "\n",
        "\n",
        "#Project Title:  Book Rating System\n",
        "\n",
        "\n",
        "##Project Specification:\n",
        "Book Rating System allows the users to:\n",
        "\n",
        "*   Add reviews for books.\n",
        "\n",
        "*   View all books along with their average ratings.\n",
        "*   Show reviews for a specific book.\n",
        "\n",
        "\n",
        "*   View rating statistics for books, including the number of reviews, average rating, and Goodreads rating.\n",
        "\n",
        "\n",
        "*   Exit the program upon wish\n",
        "\n",
        "\n",
        "\n",
        "\n",
        "The program will read and write to multiple text files:\n",
        "\n",
        "\n",
        "\n",
        "reviews.txt: Stores the reviews for each book (book ID, username, rating, and comment).\n",
        "\n",
        "books.txt: Contains a list of books with their information (book ID, title, etc.).\n",
        "\n",
        "rating.txt: Stores rating statistics for each book (book ID, total number of reviews, sum of ratings, average rating, Goodreads rating).\n",
        "\n",
        "\n",
        "\n",
        "\n",
        "\n",
        "\n",
        "\n",
        "\n",
        "---\n",
        "\n",
        "\n",
        "\n"
      ],
      "metadata": {
        "id": "dekRvgNtr1Tg"
      }
    },
    {
      "cell_type": "markdown",
      "source": [
        "##Problem Analysis\n",
        "The system needs to:\n",
        "\n",
        "# 1.   Load and manage data:\n",
        "\n",
        "\n",
        "*   The program must load the list of books and their corresponding rating statistics from the text files when it starts.\n",
        "*   The program should also load existing reviews for each book from the reviews.txt file.\n",
        "\n",
        "\n",
        "# 2.   Update files:\n",
        "\n",
        "*   After each action (adding a review, updating ratings), the program must update the corresponding files:\n",
        "\n",
        "* reviews.txt: Add the new review.\n",
        "\n",
        "* rating.txt: Update the total number of reviews, the sum of ratings,the average rating, and the Goodreads rating for the book.\n",
        "\n",
        "\n",
        "#3.  Ensure proper file handling:\n",
        "\n",
        "\n",
        "*   The program must handle file opening and closing correctly to avoid data corruption. It should ensure that the files are updated only when necessary and handle any potential errors (e.g., file not found, permission issues).\n",
        "\n",
        "#4. Input validation:\n",
        "\n",
        "* The program should validate user inputs, such as ensuring that ratings are within the valid range (1-5) and ensuring that the book ID exists in the system.\n",
        "Data consistency:\n",
        "\n",
        "* The program must maintain consistency between the reviews.txt and rating.txt files. For example, when a new review is added, the book's total review count and average rating must be updated accordingly."
      ],
      "metadata": {
        "id": "Jn7AbYuZ-Pyr"
      }
    },
    {
      "cell_type": "markdown",
      "source": [
        "#Programming Design & Solution"
      ],
      "metadata": {
        "id": "GbkTetDQ_l9c"
      }
    },
    {
      "cell_type": "markdown",
      "source": [
        "#1. Problem Overview\n",
        "\n",
        "* Objective: Manage book reviews, ratings, and statistics (average ratings, total reviews).\n",
        "Input: Book ID, username, rating (1-5), comment.\n",
        "Output: Updated reviews and ratings.\n",
        "\n",
        "# 2. Design Structure\n",
        "\n",
        "* Data Storage:\n",
        "Books: Book ID, title, total reviews, sum of ratings, Goodreads rating.\n",
        "Reviews: Book ID, username, rating, comment.\n",
        "File Handling:\n",
        "reviews.txt: Stores reviews.\n",
        "ratings.txt: Stores book ratings data (total reviews, avg rating, Goodreads rating).\n",
        "\n",
        "# 3.  Core Functions\n",
        "\n",
        "\n",
        "```\n",
        "loadBooks(): Load book data from ratings.txt.\n",
        "\n",
        "loadReviews(): Load reviews from reviews.txt.\n",
        "\n",
        "addReview(): Add a review, update book statistics (total reviews, average rating).\n",
        "\n",
        "updateRatingFile(): Update ratings.txt with new statistics.\n",
        "\n",
        "saveReviews(): Save new reviews to reviews.txt.\n",
        "\n",
        "displayBooks(): Display books with average ratings.\n",
        "\n",
        "displayReviews(): Display reviews for a specific book.\n",
        "```\n",
        "\n",
        "# 4. Main Program Flow\n",
        "\n",
        "* Load books and reviews from files.\n",
        "\n",
        "\n",
        "\n",
        "\n",
        "\n",
        "* Display a menu with options: list books, show reviews, add review, show statistics.\n",
        "\n",
        "* Process user input to perform actions:\n",
        "\n",
        "* Add reviews, update ratings, display results.\n",
        "\n",
        "* Save updated reviews and ratings back to files when exiting.\n",
        "\n",
        "#5. File Structure (ignore the commas)\n",
        "\n",
        "* reviews.txt:\n",
        "\n",
        "Format: **bookID , username , rating , comment**\n",
        "\n",
        "* ratings.txt:\n",
        "\n",
        "Format: **bookID , totalReviews , avgRating , goodReadsRating**\n",
        "\n",
        "# 6.  Basic Pseudocode\n",
        "\n",
        "\n",
        "```\n",
        "START\n",
        "\n",
        "1. Initialize arrays to stored book data, review data, and rating data.\n",
        "2. Load books data from the file \"books.txt\":\n",
        "    - Read book ID and title from the file and store in arrays.\n",
        "3. Load ratings data from the file \"rating.txt\":\n",
        "    - Read book ID, total reviews, average rating, and Goodreads rating.\n",
        "    - Update book statistics accordingly.\n",
        "4. Load reviews data from the file \"reviews.txt\":\n",
        "    - Read book ID, username, rating, and comment for each review.\n",
        "    - Store in arrays.\n",
        "\n",
        "5. Display a menu to the user with options:\n",
        "    - List all books with average ratings\n",
        "    - Show reviews for a specific book\n",
        "    - Add a new review\n",
        "    - Show rating statistics\n",
        "    - Exit program\n",
        "\n",
        "6. If the user selects \"List all books\":\n",
        "    - Display each book's ID, title, and average rating.\n",
        "\n",
        "7. If the user selects \"Show reviews\":\n",
        "    - Prompt for book ID.\n",
        "    - Display all reviews for the selected book, including username, rating, and comment.\n",
        "\n",
        "8. If the user selects \"Add a new review\":\n",
        "    - Prompt for book ID, username, rating, and comment.\n",
        "    - Validate the book ID.\n",
        "    - Add the review to the review data arrays.\n",
        "    - Update the book's review count and total ratings.\n",
        "    - Save the new review to the \"reviews.txt\" file.\n",
        "    - Update the \"rating.txt\" file with new statistics.\n",
        "\n",
        "9. If the user selects \"Show rating statistics\":\n",
        "    - Display the book ID, number of reviews, average rating, and Goodreads rating for each book.\n",
        "\n",
        "10. If the user selects \"Exit\":\n",
        "    - Exit the program and save all changes to files.\n",
        "\n",
        "END\n",
        "\n",
        "```\n",
        "#7. Conclusion\n",
        "\n",
        "* Simple Structure: Use functions for each task (loading data, adding reviews, displaying).\n",
        "\n",
        "* File Management: Efficiently read/write to files for updates.\n",
        "User Interaction: Simple menu-driven interface for ease of use.\n",
        "\n",
        "\n",
        "\n",
        "\n",
        "\n",
        "\n",
        "![book_review_system_flowchart.png](data:image/png;base64,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)"
      ],
      "metadata": {
        "id": "SUIyaiZs8tk6"
      }
    },
    {
      "cell_type": "markdown",
      "source": [
        "Here is the Google drive link for the flow chart. [Click me](https://drive.google.com/file/d/1rAGzIi04kZv92k-j0o6Zkl--RKlzZOQI/view?usp=drive_link).\n"
      ],
      "metadata": {
        "id": "_HEZI9ULKQcr"
      }
    },
    {
      "cell_type": "markdown",
      "source": [
        "# **Benefits of the Code:**\n",
        "\n",
        "1. **User-Friendly Interface:** *The system provides a simple menu-driven interface for easy interaction, allowing users to list books, view reviews, add new reviews, and view rating statistics.*\n",
        "\n",
        "2. **Efficient Data Handling** *The program handles book and review data efficiently, ensuring that reviews and ratings are updated dynamically and stored persistently in files.*\n",
        "\n",
        "3. **Real-Time Rating Calculation:** *The code automatically updates the average rating and Goodreads rating whenever a new review is added, ensuring real-time data accuracy.*\n",
        "\n",
        "4. **Scalable:** *The program is designed to handle a large number of books and reviews, making it scalable for future extensions.*\n",
        "\n",
        "---\n",
        "\n",
        "\n",
        "# **Limitations of the Code:**\n",
        "\n",
        "\n",
        "1. **Limited Book and Review Capacity:**  *The program is limited to a maximum of 100 books and 1000 reviews due to predefined array sizes.\n",
        "\n",
        "2. **File Dependency:** *The system relies on external text files for storing and loading data, which could lead to data corruption if files are not properly maintained.*\n",
        "\n",
        "3. **Basic Validation:** *While the program validates the existence of book IDs, it does not validate the format of user inputs, which could lead to errors or crashes if invalid data is entered.*\n",
        "\n",
        "4. **No User Authentication:** *The system does not include user authentication or authorization, meaning anyone can add reviews, potentially compromising data integrity.*\n",
        "\n",
        "\n",
        "\n",
        "\n",
        "\n"
      ],
      "metadata": {
        "id": "Qoh8oFbRIRTM"
      }
    },
    {
      "cell_type": "markdown",
      "source": [
        "Below are the Input files for the program"
      ],
      "metadata": {
        "id": "FNnJkq0EoHGc"
      }
    },
    {
      "cell_type": "code",
      "execution_count": 9,
      "metadata": {
        "colab": {
          "base_uri": "https://localhost:8080/"
        },
        "id": "FU30ZqPVTt6u",
        "outputId": "f94eb624-34cf-41f0-8499-2aae7abd6513"
      },
      "outputs": [
        {
          "output_type": "stream",
          "name": "stdout",
          "text": [
            "Overwriting books.txt\n"
          ]
        }
      ],
      "source": [
        "%%writefile books.txt\n",
        "\n",
        "bac001    Data Structure and Object-Oriented Programming\n",
        "bsf002    The 5 Personality Patterns\n",
        "bcs003    The Little Red Riding Hood\n",
        "bsf004    I Wish You More"
      ]
    },
    {
      "cell_type": "code",
      "execution_count": 10,
      "metadata": {
        "colab": {
          "base_uri": "https://localhost:8080/"
        },
        "id": "laDSrGEwVaXj",
        "outputId": "6ec54182-fd23-4962-9343-cec200c80bfe"
      },
      "outputs": [
        {
          "output_type": "stream",
          "name": "stdout",
          "text": [
            "Overwriting reviews.txt\n"
          ]
        }
      ],
      "source": [
        "%%writefile reviews.txt\n",
        "\n",
        "bac001    reen123    3   okayish book\n",
        "bac001    lim1212    4   it is a textbook. What do you expect?\n",
        "bsf002    kessler12  5   eye-opening book. Must read!\n",
        "bcs003    mom999     5   nice illustration. Easy to read out\n",
        "bsf004    george88   2   the wordings may be a bit hard for kid"
      ]
    },
    {
      "cell_type": "code",
      "execution_count": 11,
      "metadata": {
        "colab": {
          "base_uri": "https://localhost:8080/"
        },
        "id": "_FddZtHVVex7",
        "outputId": "089edc74-8448-4719-c670-7130cfd5bef9"
      },
      "outputs": [
        {
          "output_type": "stream",
          "name": "stdout",
          "text": [
            "Overwriting rating.txt\n"
          ]
        }
      ],
      "source": [
        "%%writefile rating.txt\n",
        "\n",
        "bac001    10    3    4\n",
        "bsf002    15    4    5\n",
        "bcs003    4    5    5\n",
        "bsf004    8    3    5"
      ]
    },
    {
      "cell_type": "markdown",
      "source": [
        "Below is the main program for the Book review System\n"
      ],
      "metadata": {
        "id": "9Ff6Uw87oPZK"
      }
    },
    {
      "cell_type": "code",
      "source": [
        "%%writefile ratingProgram.cpp\n",
        "/*\n",
        "\n",
        "this program was created by Numaan Hussain Suhaff\n",
        "Date from 01/01/2025 to 09/01/2025\n",
        "\n",
        "*/\n",
        "\n",
        "#include <iostream>\n",
        "#include <fstream>\n",
        "#include <string>\n",
        "#include <iomanip>\n",
        "#include <sstream>\n",
        "\n",
        "using namespace std;\n",
        "\n",
        "// Maximum limits for books and reviews\n",
        "const int MAX_BOOKS = 100;\n",
        "const int MAX_REVIEWS = 1000;\n",
        "\n",
        "// Arrays to store book data\n",
        "string bookIDs[MAX_BOOKS];                // Stores book IDs\n",
        "string bookTitles[MAX_BOOKS];             // Stores book titles\n",
        "int bookReviewCounts[MAX_BOOKS] = {0};    // Stores the count of reviews for each book\n",
        "int bookTotalRatings[MAX_BOOKS] = {0};    // Stores the total ratings for each book\n",
        "double bookGoodreadsRatings[MAX_BOOKS] = {0}; // Stores the Goodreads ratings for each book\n",
        "\n",
        "// Arrays to store review data\n",
        "string reviewBookIDs[MAX_REVIEWS];        // Stores the book IDs for each review\n",
        "string reviewUsernames[MAX_REVIEWS];      // Stores usernames for each review\n",
        "int reviewRatings[MAX_REVIEWS];           // Stores ratings for each review\n",
        "string reviewComments[MAX_REVIEWS];       // Stores comments for each review\n",
        "\n",
        "// Function to calculate Goodreads Rating based on average rating\n",
        "// Goodreads rating adds a slight bias to encourage better reviews\n",
        "double calculateGoodreadsRating(double avgRating)\n",
        "{\n",
        "    return (avgRating > 0) ? avgRating * 0.8 + 1 : 0;\n",
        "}\n",
        "\n",
        "// Function to load book data from a file\n",
        "// Reads the file line by line and stores data in arrays\n",
        "int loadBooks(const string &filename)\n",
        "{\n",
        "    ifstream file(filename); // Open the file\n",
        "    if (!file)\n",
        "    {\n",
        "        cout << \"Error opening books file.\" << endl;\n",
        "        return 0;\n",
        "    }\n",
        "\n",
        "    int count = 0;\n",
        "    // Read book ID and title until the end of the file or maximum limit\n",
        "    while (count < MAX_BOOKS && file >> bookIDs[count])\n",
        "    {\n",
        "        file.ignore(); // Skip whitespace after ID\n",
        "        getline(file, bookTitles[count]); // Read the title\n",
        "        count++;\n",
        "    }\n",
        "    file.close(); // Close the file\n",
        "    return count; // Return the number of books loaded\n",
        "}\n",
        "\n",
        "// Function to load review data from a file\n",
        "// Reads reviews and stores them in arrays\n",
        "int loadReviews(const string &filename)\n",
        "{\n",
        "    ifstream file(filename); // Open the file\n",
        "    if (!file)\n",
        "    {\n",
        "        cout << \"Error opening reviews file.\" << endl;\n",
        "        return 0;\n",
        "    }\n",
        "\n",
        "    int count = 0;\n",
        "    // Read book ID, username, rating, and comment for each review\n",
        "    while (count < MAX_REVIEWS && file >> reviewBookIDs[count] >> reviewUsernames[count] >> reviewRatings[count])\n",
        "    {\n",
        "        file.ignore(); // Skip whitespace after rating\n",
        "        getline(file, reviewComments[count]); // Read the comment\n",
        "        count++;\n",
        "    }\n",
        "    file.close(); // Close the file\n",
        "    return count; // Return the number of reviews loaded\n",
        "}\n",
        "\n",
        "// Function to load rating data from a file\n",
        "// Updates arrays with total reviews, average ratings, and Goodreads ratings\n",
        "void loadRatings(const string &filename, int bookCount)\n",
        "{\n",
        "    ifstream file(filename); // Open the file\n",
        "    if (!file)\n",
        "    {\n",
        "        cout << \"Error opening ratings file. Initializing with default values.\" << endl;\n",
        "        return;\n",
        "    }\n",
        "\n",
        "    string bookID;\n",
        "    int totalReviews;\n",
        "    double avgRating, goodreadsRating;\n",
        "\n",
        "    // Read ratings data for each book\n",
        "    while (file >> bookID >> totalReviews >> avgRating >> goodreadsRating)\n",
        "    {\n",
        "        for (int i = 0; i < bookCount; ++i)\n",
        "        {\n",
        "            if (bookIDs[i] == bookID)\n",
        "            {\n",
        "                bookReviewCounts[i] = totalReviews; // Update review count\n",
        "                bookTotalRatings[i] = static_cast<int>(avgRating * totalReviews); // Update total ratings\n",
        "                bookGoodreadsRatings[i] = goodreadsRating; // Update Goodreads rating\n",
        "                break;\n",
        "            }\n",
        "        }\n",
        "    }\n",
        "\n",
        "    file.close(); // Close the file\n",
        "}\n",
        "\n",
        "// Function to save reviews back to the file\n",
        "// Writes the review data from arrays to the file\n",
        "void saveReviewsToFile(const string &filename, int reviewCount)\n",
        "{\n",
        "    ofstream file(filename); // Open the file\n",
        "    if (!file)\n",
        "    {\n",
        "        cout << \"Error saving reviews to file.\" << endl;\n",
        "        return;\n",
        "    }\n",
        "\n",
        "    // Write each review to the file\n",
        "    for (int i = 0; i < reviewCount; ++i)\n",
        "    {\n",
        "        file << left << setw(10) << reviewBookIDs[i] << setw(12) << reviewUsernames[i]\n",
        "             << setw(5) << reviewRatings[i] << reviewComments[i] << endl;\n",
        "    }\n",
        "\n",
        "    file.close(); // Close the file\n",
        "    cout << \"Reviews file updated successfully.\" << endl;\n",
        "}\n",
        "\n",
        "// Function to update the ratings file\n",
        "// Writes updated ratings data to the file\n",
        "void updateRatingsFile(const string &filename, int bookCount)\n",
        "{\n",
        "    ofstream file(filename); // Open the file\n",
        "    if (!file)\n",
        "    {\n",
        "        cout << \"Error updating ratings file.\" << endl;\n",
        "        return;\n",
        "    }\n",
        "\n",
        "    // Write ratings data for each book\n",
        "    for (int i = 0; i < bookCount; ++i)\n",
        "    {\n",
        "        double avgRating = (bookReviewCounts[i] > 0) ?\n",
        "        static_cast<double>(bookTotalRatings[i]) / bookReviewCounts[i] : 0;\n",
        "        double goodreadsRating = calculateGoodreadsRating(avgRating);\n",
        "\n",
        "        file << left << setw(10) << bookIDs[i] << setw(10) << bookReviewCounts[i]\n",
        "             << setw(10) << fixed << setprecision(2) << avgRating\n",
        "             << fixed << setprecision(2) << goodreadsRating << endl;\n",
        "    }\n",
        "\n",
        "    file.close(); // Close the file\n",
        "    cout << \"Ratings file updated successfully.\" << endl;\n",
        "}\n",
        "\n",
        "// Function to add a new review\n",
        "// Prompts the user for input, updates arrays, and saves data to files\n",
        "void addReview(int &reviewCount, int bookCount, const string &reviewsFilename, const string &ratingsFilename)\n",
        "{\n",
        "    if (reviewCount >= MAX_REVIEWS)\n",
        "    {\n",
        "        cout << \"Cannot add more reviews. Maximum capacity reached.\" << endl;\n",
        "        return;\n",
        "    }\n",
        "\n",
        "    string bookID, username, comment;\n",
        "    int rating;\n",
        "\n",
        "    cout << \"Enter book ID: \";\n",
        "    cin >> bookID;\n",
        "\n",
        "    // Validate book ID\n",
        "    int bookIndex = -1;\n",
        "    for (int i = 0; i < bookCount; ++i)\n",
        "    {\n",
        "        if (bookIDs[i] == bookID)\n",
        "        {\n",
        "            bookIndex = i;\n",
        "            break;\n",
        "        }\n",
        "    }\n",
        "\n",
        "    if (bookIndex == -1)\n",
        "    {\n",
        "        cout << \"Invalid book ID.\" << endl;\n",
        "        return;\n",
        "    }\n",
        "\n",
        "    cout << \"Enter username: \";\n",
        "    cin >> username;\n",
        "\n",
        "    cout << \"Enter rating (1-5): \";\n",
        "    cin >> rating;\n",
        "    if (rating < 1 || rating > 5)\n",
        "    {\n",
        "        cout << \"Invalid rating. Rating must be between 1 and 5.\" << endl;\n",
        "        return;\n",
        "    }\n",
        "    cin.ignore(); // Clear input buffer\n",
        "    cout << \"Enter your comment: \";\n",
        "    getline(cin, comment);\n",
        "\n",
        "    // Add review to arrays\n",
        "    reviewBookIDs[reviewCount] = bookID;\n",
        "    reviewUsernames[reviewCount] = username;\n",
        "    reviewRatings[reviewCount] = rating;\n",
        "    reviewComments[reviewCount] = comment;\n",
        "    reviewCount++;\n",
        "\n",
        "    // Update book statistics\n",
        "    bookReviewCounts[bookIndex]++;\n",
        "    bookTotalRatings[bookIndex] += rating;\n",
        "\n",
        "    // Save review to file\n",
        "    saveReviewsToFile(reviewsFilename, reviewCount);\n",
        "\n",
        "    // Update the ratings file with the new data\n",
        "    updateRatingsFile(ratingsFilename, bookCount);\n",
        "}\n",
        "\n",
        "// Function to list all books with average ratings\n",
        "void listBooks(int bookCount)\n",
        "{\n",
        "    cout << \"\\n--- List of Books and Average Ratings ---\\n\";\n",
        "    cout << left << setw(10) << \"Book ID\" << setw(50) << \"Title\" << setw(15) << \"Average Rating\" << endl;\n",
        "\n",
        "    for (int i = 0; i < bookCount; ++i)\n",
        "    {\n",
        "        double avgRating = (bookReviewCounts[i] > 0) ?\n",
        "        static_cast<double>(bookTotalRatings[i]) / bookReviewCounts[i] : 0;\n",
        "\n",
        "        cout << left << setw(10) << bookIDs[i] << setw(50) << bookTitles[i]\n",
        "             << fixed << setprecision(2) << avgRating << endl;\n",
        "    }\n",
        "}\n",
        "\n",
        "// Function to show reviews for a specific book\n",
        "void showReviews(int reviewCount)\n",
        "{\n",
        "    string bookID;\n",
        "    cout << \"Enter book ID: \";\n",
        "    cin >> bookID;\n",
        "\n",
        "    cout << \"\\n--- Reviews for Book ID: \" << bookID << \" ---\\n\";\n",
        "    cout << left << setw(12) << \"Username\" << setw(10) << \"Rating\" << \"Comment\" << endl;\n",
        "\n",
        "    for (int i = 0; i < reviewCount; ++i)\n",
        "    {\n",
        "        if (reviewBookIDs[i] == bookID)\n",
        "        {\n",
        "            cout << left << setw(12) << reviewUsernames[i] << setw(10) << reviewRatings[i]\n",
        "                 << reviewComments[i] << endl;\n",
        "        }\n",
        "    }\n",
        "}\n",
        "\n",
        "// Function to show rating statistics\n",
        "void showRatingStatistics(int bookCount)\n",
        "{\n",
        "    cout << \"\\n--- Rating Statistics ---\\n\";\n",
        "    cout << left << setw(10) << \"Book ID\" << setw(10) << \"Reviews\" << setw(15)\n",
        "         << \"Avg Rating\" << \"Goodreads Rating\" << endl;\n",
        "\n",
        "    for (int i = 0; i < bookCount; ++i)\n",
        "    {\n",
        "        double avgRating = (bookReviewCounts[i] > 0) ?\n",
        "        static_cast<double>(bookTotalRatings[i]) / bookReviewCounts[i] : 0;\n",
        "\n",
        "        cout << left << setw(10) << bookIDs[i] << setw(10) << bookReviewCounts[i]\n",
        "             << setw(15) << fixed << setprecision(2) << avgRating\n",
        "             << fixed << setprecision(2) << calculateGoodreadsRating(avgRating) << endl;\n",
        "    }\n",
        "}\n",
        "\n",
        "// Main function\n",
        "int main()\n",
        "{\n",
        "    cout << \"Welcome to the Book Rating System!\" << endl;\n",
        "    cout << endl;\n",
        "    cout << \"-----------------------------------\" << endl;\n",
        "    cout << endl;\n",
        "    cout << \"Developed by Numaan Hussain Suhaff\" << endl;\n",
        "    cout << \"at 4th jan 2025\" << endl;\n",
        "    cout << endl;\n",
        "    cout << \"-----------------------------------\" << endl;\n",
        "    cout << endl;\n",
        "    cout << \"Loading data...\" << endl;\n",
        "\n",
        "    int bookCount = loadBooks(\"books.txt\");\n",
        "    loadRatings(\"rating.txt\", bookCount);\n",
        "    int reviewCount = loadReviews(\"reviews.txt\");\n",
        "\n",
        "    int choice;\n",
        "    do\n",
        "    {\n",
        "        cout << \"\\n-----------------------------------\" << endl;\n",
        "        cout << \"\\n--- Menu ---\\n\";\n",
        "        cout << \"1. List all books with average ratings\\n\";\n",
        "        cout << \"2. Show reviews for a book\\n\";\n",
        "        cout << \"3. Add a new review\\n\";\n",
        "        cout << \"4. Show rating statistics\\n\";\n",
        "        cout << \"5. Exit\\n\";\n",
        "        cout << \"-----------------------------------\" << endl;\n",
        "        cout << \"Enter your choice: \";\n",
        "        cin >> choice;\n",
        "\n",
        "        switch (choice)\n",
        "        {\n",
        "        case 1:\n",
        "            listBooks(bookCount);\n",
        "            break;\n",
        "        case 2:\n",
        "            showReviews(reviewCount);\n",
        "            break;\n",
        "        case 3:\n",
        "            addReview(reviewCount, bookCount, \"reviews.txt\", \"rating.txt\");\n",
        "            break;\n",
        "        case 4:\n",
        "            showRatingStatistics(bookCount);\n",
        "            break;\n",
        "        case 5:\n",
        "            cout << \"Goodbye!\" << endl;\n",
        "            break;\n",
        "        default:\n",
        "            cout << \"Invalid choice. Please try again.\" << endl;\n",
        "        }\n",
        "    } while (choice != 5);\n",
        "\n",
        "    return 0;\n",
        "}\n"
      ],
      "metadata": {
        "colab": {
          "base_uri": "https://localhost:8080/"
        },
        "id": "1NSyvjb4fCWl",
        "outputId": "b7e5d130-9c4c-44dc-d47c-7664ccdb1b56"
      },
      "execution_count": 37,
      "outputs": [
        {
          "output_type": "stream",
          "name": "stdout",
          "text": [
            "Overwriting ratingProgram.cpp\n"
          ]
        }
      ]
    },
    {
      "cell_type": "code",
      "source": [
        "%%shell\n",
        "g++ ratingProgram.cpp -o ratingProgram\n",
        "./ratingProgram"
      ],
      "metadata": {
        "colab": {
          "base_uri": "https://localhost:8080/"
        },
        "id": "YNdw94wMUNkx",
        "outputId": "4ac54dca-7642-4581-9151-21ab613b7bd9"
      },
      "execution_count": 39,
      "outputs": [
        {
          "output_type": "stream",
          "name": "stdout",
          "text": [
            "Welcome to the Book Rating System!\n",
            "\n",
            "-----------------------------------\n",
            "\n",
            "Developed by Numaan Hussain Suhaff\n",
            "at 4th jan 2025\n",
            "\n",
            "-----------------------------------\n",
            "\n",
            "Loading data...\n",
            "\n",
            "-----------------------------------\n",
            "\n",
            "--- Menu ---\n",
            "1. List all books with average ratings\n",
            "2. Show reviews for a book\n",
            "3. Add a new review\n",
            "4. Show rating statistics\n",
            "5. Exit\n",
            "-----------------------------------\n",
            "Enter your choice: 5\n",
            "Goodbye!\n"
          ]
        },
        {
          "output_type": "execute_result",
          "data": {
            "text/plain": []
          },
          "metadata": {},
          "execution_count": 39
        }
      ]
    },
    {
      "cell_type": "markdown",
      "source": [
        "# Sample of program runs.\n",
        "\n",
        "\n",
        "---\n",
        "\n",
        "#Case Run 1: Add a New Review\n",
        "* **Input:**\n",
        "\n",
        "1. Book ID: *bac001*\n",
        "2. Username: *ns0216*\n",
        "3. Rating: *5*\n",
        "4. Comment: *Amazing book!*\n",
        "\n",
        "\n",
        "---\n",
        "\n",
        "\n",
        "* **Expected Output:**\n",
        "\n",
        "Review is added to **reviews.txt** with correct formatting.\n",
        "\n",
        " **books.txt** is updated with the new average rating for bac001.\n",
        "\n",
        " **rating.txt** is updated, increasing the total reviews for bac001 by 1 and recalculating average ratings.\n",
        "\n",
        "\n",
        "\n",
        "---\n",
        "\n",
        "\n"
      ],
      "metadata": {
        "id": "ioZ8-UV2EQZ7"
      }
    },
    {
      "cell_type": "code",
      "source": [
        "%%shell\n",
        "g++ ratingProgram.cpp -o ratingProgram\n",
        "./ratingProgram"
      ],
      "metadata": {
        "colab": {
          "base_uri": "https://localhost:8080/"
        },
        "id": "03_pUXm1mq_i",
        "outputId": "763e5383-7830-4c2e-b017-036a9ad15784"
      },
      "execution_count": 16,
      "outputs": [
        {
          "output_type": "stream",
          "name": "stdout",
          "text": [
            "Welcome to the Book Rating System!\n",
            "\n",
            "-----------------------------------\n",
            "\n",
            "Developed by Numaan Hussain Suhaff\n",
            "at 4th jan 2025\n",
            "\n",
            "-----------------------------------\n",
            "\n",
            "Loading data...\n",
            "\n",
            "-----------------------------------\n",
            "\n",
            "--- Menu ---\n",
            "1. List all books with average ratings\n",
            "2. Show reviews for a book\n",
            "3. Add a new review\n",
            "4. Show rating statistics\n",
            "5. Exit\n",
            "-----------------------------------\n",
            "Enter your choice: 3\n",
            "Enter book ID: bac001\n",
            "Enter username: ns0216\n",
            "Enter rating (1-5): 5\n",
            "Enter your comment: Amazing Book!\n",
            "Reviews file updated successfully.\n",
            "Ratings file updated successfully.\n",
            "\n",
            "-----------------------------------\n",
            "\n",
            "--- Menu ---\n",
            "1. List all books with average ratings\n",
            "2. Show reviews for a book\n",
            "3. Add a new review\n",
            "4. Show rating statistics\n",
            "5. Exit\n",
            "-----------------------------------\n",
            "Enter your choice: 2\n",
            "Enter book ID: bac001\n",
            "\n",
            "--- Reviews for Book ID: bac001 ---\n",
            "Username    Rating    Comment\n",
            "reen123     3           okayish book\n",
            "lim1212     4           it is a textbook. What do you expect?\n",
            "ns0216      5         Amazing Book!\n",
            "\n",
            "-----------------------------------\n",
            "\n",
            "--- Menu ---\n",
            "1. List all books with average ratings\n",
            "2. Show reviews for a book\n",
            "3. Add a new review\n",
            "4. Show rating statistics\n",
            "5. Exit\n",
            "-----------------------------------\n",
            "Enter your choice: 5\n",
            "Exiting program. Changes saved.\n"
          ]
        },
        {
          "output_type": "execute_result",
          "data": {
            "text/plain": []
          },
          "metadata": {},
          "execution_count": 16
        }
      ]
    },
    {
      "cell_type": "code",
      "source": [
        "import os\n",
        "with open(\"reviews.txt\", \"r\") as file:\n",
        "    print(file.read())"
      ],
      "metadata": {
        "colab": {
          "base_uri": "https://localhost:8080/"
        },
        "id": "MiaJ0y0lceTd",
        "outputId": "8c5456ad-0870-4e28-c6fa-85cc8b6ccb02"
      },
      "execution_count": 32,
      "outputs": [
        {
          "output_type": "stream",
          "name": "stdout",
          "text": [
            "bac001    reen123     3         okayish book\n",
            "bac001    lim1212     4         it is a textbook. What do you expect?\n",
            "bsf002    kessler12   5         eye-opening book. Must read!\n",
            "bcs003    mom999      5         nice illustration. Easy to read out\n",
            "bsf004    george88    2         the wordings may be a bit hard for kid\n",
            "bac001    ns0216      5       Amazing Book!\n",
            "bcs003    ns0216      4    Love it\n",
            "\n"
          ]
        }
      ]
    },
    {
      "cell_type": "markdown",
      "source": [
        "# Sample of program runs.\n",
        "\n",
        "\n",
        "---\n",
        "\n",
        "#Case Run 2: Display All Books with Average Ratings\n",
        "* **Input:**\n",
        "\n",
        "Menu Choice: *1*\n",
        "* **Expected Output:**\n",
        "\n",
        "*A sorted list of books displayed.ordered by average ratings.*\n",
        "\n",
        "**Book ID, Title, Average Rating.**"
      ],
      "metadata": {
        "id": "3LG5c8Uj9EcP"
      }
    },
    {
      "cell_type": "code",
      "source": [
        "%%shell\n",
        "g++ ratingProgram.cpp -o ratingProgram\n",
        "./ratingProgram"
      ],
      "metadata": {
        "colab": {
          "base_uri": "https://localhost:8080/"
        },
        "id": "DSdM5SXS9qWn",
        "outputId": "6017976f-8c24-4c15-f333-4ec56bc5bc97"
      },
      "execution_count": 17,
      "outputs": [
        {
          "output_type": "stream",
          "name": "stdout",
          "text": [
            "Welcome to the Book Rating System!\n",
            "\n",
            "-----------------------------------\n",
            "\n",
            "Developed by Numaan Hussain Suhaff\n",
            "at 4th jan 2025\n",
            "\n",
            "-----------------------------------\n",
            "\n",
            "Loading data...\n",
            "\n",
            "-----------------------------------\n",
            "\n",
            "--- Menu ---\n",
            "1. List all books with average ratings\n",
            "2. Show reviews for a book\n",
            "3. Add a new review\n",
            "4. Show rating statistics\n",
            "5. Exit\n",
            "-----------------------------------\n",
            "Enter your choice: 1\n",
            "\n",
            "--- List of Books and Average Ratings ---\n",
            "Book ID   Title                                             Average Rating \n",
            "bac001       Data Structure and Object-Oriented Programming 3.09\n",
            "bsf002       The 5 Personality Patterns                     4.00\n",
            "bcs003       The Little Red Riding Hood                     5.00\n",
            "bsf004       I Wish You More                                3.00\n",
            "\n",
            "-----------------------------------\n",
            "\n",
            "--- Menu ---\n",
            "1. List all books with average ratings\n",
            "2. Show reviews for a book\n",
            "3. Add a new review\n",
            "4. Show rating statistics\n",
            "5. Exit\n",
            "-----------------------------------\n",
            "Enter your choice: 5\n",
            "Exiting program. Changes saved.\n"
          ]
        },
        {
          "output_type": "execute_result",
          "data": {
            "text/plain": []
          },
          "metadata": {},
          "execution_count": 17
        }
      ]
    },
    {
      "cell_type": "markdown",
      "source": [
        "# Sample of program runs.\n",
        "\n",
        "\n",
        "---\n",
        "\n",
        "#Case Run 3: Display Reviews for a Specific Book\n",
        "\n",
        "* **Input:**\n",
        "\n",
        "1. Menu Choice: *2*\n",
        "2. Book ID: *bsf002*\n",
        "* **Expected Output:**\n",
        "\n",
        " 1. All reviews for **bsf002** are displayed with columns: *Username, Rating, omment.*\n",
        " 2. Average rating for bsf002 is displayed."
      ],
      "metadata": {
        "id": "uPbZalaQ-B7n"
      }
    },
    {
      "cell_type": "code",
      "source": [
        "%%shell\n",
        "g++ ratingProgram.cpp -o ratingProgram\n",
        "./ratingProgram"
      ],
      "metadata": {
        "colab": {
          "base_uri": "https://localhost:8080/"
        },
        "id": "RtrNU3sH-hQZ",
        "outputId": "3f5af6c4-c599-4e1f-d967-b78d6d2bd4ff"
      },
      "execution_count": 18,
      "outputs": [
        {
          "output_type": "stream",
          "name": "stdout",
          "text": [
            "Welcome to the Book Rating System!\n",
            "\n",
            "-----------------------------------\n",
            "\n",
            "Developed by Numaan Hussain Suhaff\n",
            "at 4th jan 2025\n",
            "\n",
            "-----------------------------------\n",
            "\n",
            "Loading data...\n",
            "\n",
            "-----------------------------------\n",
            "\n",
            "--- Menu ---\n",
            "1. List all books with average ratings\n",
            "2. Show reviews for a book\n",
            "3. Add a new review\n",
            "4. Show rating statistics\n",
            "5. Exit\n",
            "-----------------------------------\n",
            "Enter your choice: 2\n",
            "Enter book ID: bsf002\n",
            "\n",
            "--- Reviews for Book ID: bsf002 ---\n",
            "Username    Rating    Comment\n",
            "kessler12   5              eye-opening book. Must read!\n",
            "\n",
            "-----------------------------------\n",
            "\n",
            "--- Menu ---\n",
            "1. List all books with average ratings\n",
            "2. Show reviews for a book\n",
            "3. Add a new review\n",
            "4. Show rating statistics\n",
            "5. Exit\n",
            "-----------------------------------\n",
            "Enter your choice: 5\n",
            "Exiting program. Changes saved.\n"
          ]
        },
        {
          "output_type": "execute_result",
          "data": {
            "text/plain": []
          },
          "metadata": {},
          "execution_count": 18
        }
      ]
    },
    {
      "cell_type": "markdown",
      "source": [
        "# Sample of program runs.\n",
        "\n",
        "\n",
        "---\n",
        "\n",
        "#Case Run 4: Update Ratings After Adding a Review\n",
        "* **Input:**\n",
        "\n",
        "*Add a new review for **bcs003** with a rating of 4.*\n",
        "* **Expected Output:**\n",
        "\n",
        "1. **rating.txt** updates the total number of reviews for bcs003 and recalculates the average rating.\n",
        "2. **reviews.txt** includes the new review with correct alignment."
      ],
      "metadata": {
        "id": "EeXHC5wC-yxv"
      }
    },
    {
      "cell_type": "code",
      "source": [
        "%%shell\n",
        "g++ ratingProgram.cpp -o ratingProgram\n",
        "./ratingProgram"
      ],
      "metadata": {
        "colab": {
          "base_uri": "https://localhost:8080/"
        },
        "id": "Bge6YhjJ_KKG",
        "outputId": "cbe07aa5-6526-4a87-b6a7-c1e76cf9f257"
      },
      "execution_count": 19,
      "outputs": [
        {
          "output_type": "stream",
          "name": "stdout",
          "text": [
            "Welcome to the Book Rating System!\n",
            "\n",
            "-----------------------------------\n",
            "\n",
            "Developed by Numaan Hussain Suhaff\n",
            "at 4th jan 2025\n",
            "\n",
            "-----------------------------------\n",
            "\n",
            "Loading data...\n",
            "\n",
            "-----------------------------------\n",
            "\n",
            "--- Menu ---\n",
            "1. List all books with average ratings\n",
            "2. Show reviews for a book\n",
            "3. Add a new review\n",
            "4. Show rating statistics\n",
            "5. Exit\n",
            "-----------------------------------\n",
            "Enter your choice: 3\n",
            "Enter book ID: bcs003\n",
            "Enter username: ns0216\n",
            "Enter rating (1-5): 4\n",
            "Enter your comment: Love it\n",
            "Reviews file updated successfully.\n",
            "Ratings file updated successfully.\n",
            "\n",
            "-----------------------------------\n",
            "\n",
            "--- Menu ---\n",
            "1. List all books with average ratings\n",
            "2. Show reviews for a book\n",
            "3. Add a new review\n",
            "4. Show rating statistics\n",
            "5. Exit\n",
            "-----------------------------------\n",
            "Enter your choice: 4\n",
            "\n",
            "--- Rating Statistics ---\n",
            "Book ID   Reviews   Avg Rating     Goodreads Rating\n",
            "bac001    11        3.09           3.47\n",
            "bsf002    15        4.00           4.20\n",
            "bcs003    5         4.80           4.84\n",
            "bsf004    8         3.00           3.40\n",
            "\n",
            "-----------------------------------\n",
            "\n",
            "--- Menu ---\n",
            "1. List all books with average ratings\n",
            "2. Show reviews for a book\n",
            "3. Add a new review\n",
            "4. Show rating statistics\n",
            "5. Exit\n",
            "-----------------------------------\n",
            "Enter your choice: 5\n",
            "Exiting program. Changes saved.\n"
          ]
        },
        {
          "output_type": "execute_result",
          "data": {
            "text/plain": []
          },
          "metadata": {},
          "execution_count": 19
        }
      ]
    },
    {
      "cell_type": "code",
      "source": [
        "import os\n",
        "with open(\"rating.txt\",\"r\") as file:\n",
        "    print(file.read())"
      ],
      "metadata": {
        "colab": {
          "base_uri": "https://localhost:8080/"
        },
        "id": "Lcj05oihclaP",
        "outputId": "35804ec8-6cae-4db0-f6cb-86cf8ee045ce"
      },
      "execution_count": 33,
      "outputs": [
        {
          "output_type": "stream",
          "name": "stdout",
          "text": [
            "bac001    11        3.09      3.47\n",
            "bsf002    15        4.00      4.20\n",
            "bcs003    5         4.80      4.84\n",
            "bsf004    8         3.00      3.40\n",
            "\n"
          ]
        }
      ]
    },
    {
      "cell_type": "markdown",
      "source": [
        "# Sample of program runs.\n",
        "\n",
        "\n",
        "---\n",
        "\n",
        "#Case Run 5:\n",
        "**Invalid Book ID**\n",
        "1. **Input:**\n",
        "\n",
        "* Menu Choice: **3** (*Add a Review*)\n",
        "* Book ID: **invalid123**\n",
        "2. **Expected Output:**\n",
        "\n",
        "* Error message: **\"Invalid book ID.\"**\n",
        "* No changes made to any files."
      ],
      "metadata": {
        "id": "Z3rLrw5Y_dIP"
      }
    },
    {
      "cell_type": "markdown",
      "source": [
        "### The section below is to see the changes happened to the existing files."
      ],
      "metadata": {
        "id": "D6JuUGiKEjjL"
      }
    },
    {
      "cell_type": "code",
      "source": [
        "%%shell\n",
        "g++ ratingProgram.cpp -o ratingProgram\n",
        "./ratingProgram"
      ],
      "metadata": {
        "colab": {
          "base_uri": "https://localhost:8080/"
        },
        "id": "wlG695wY_-84",
        "outputId": "9618e5d1-d4e7-4de4-a4fb-9b1fc9ac7af3"
      },
      "execution_count": 30,
      "outputs": [
        {
          "output_type": "stream",
          "name": "stdout",
          "text": [
            "Welcome to the Book Rating System!\n",
            "\n",
            "-----------------------------------\n",
            "\n",
            "Developed by Numaan Hussain Suhaff\n",
            "at 4th jan 2025\n",
            "\n",
            "-----------------------------------\n",
            "\n",
            "Loading data...\n",
            "\n",
            "-----------------------------------\n",
            "\n",
            "--- Menu ---\n",
            "1. List all books with average ratings\n",
            "2. Show reviews for a book\n",
            "3. Add a new review\n",
            "4. Show rating statistics\n",
            "5. Exit\n",
            "-----------------------------------\n",
            "Enter your choice: 3\n",
            "Enter book ID: invalid123\n",
            "Invalid book ID.\n",
            "\n",
            "-----------------------------------\n",
            "\n",
            "--- Menu ---\n",
            "1. List all books with average ratings\n",
            "2. Show reviews for a book\n",
            "3. Add a new review\n",
            "4. Show rating statistics\n",
            "5. Exit\n",
            "-----------------------------------\n",
            "Enter your choice: 5\n",
            "Goodbye!\n"
          ]
        },
        {
          "output_type": "execute_result",
          "data": {
            "text/plain": []
          },
          "metadata": {},
          "execution_count": 30
        }
      ]
    },
    {
      "cell_type": "code",
      "source": [
        "import os\n",
        "with open(\"books.txt\", \"r\") as file:\n",
        "    print(file.read())\n"
      ],
      "metadata": {
        "colab": {
          "base_uri": "https://localhost:8080/"
        },
        "id": "Y2UdroNT5TCL",
        "outputId": "e343a482-25eb-4522-8420-f35e8e057f09"
      },
      "execution_count": 21,
      "outputs": [
        {
          "output_type": "stream",
          "name": "stdout",
          "text": [
            "\n",
            "bac001    Data Structure and Object-Oriented Programming\n",
            "bsf002    The 5 Personality Patterns\n",
            "bcs003    The Little Red Riding Hood\n",
            "bsf004    I Wish You More\n",
            "\n"
          ]
        }
      ]
    },
    {
      "cell_type": "code",
      "execution_count": 22,
      "metadata": {
        "colab": {
          "base_uri": "https://localhost:8080/"
        },
        "id": "n5sMa_wEYRRv",
        "outputId": "d802d23e-204c-40c5-99b0-ba0691d5042f"
      },
      "outputs": [
        {
          "output_type": "stream",
          "name": "stdout",
          "text": [
            "bac001    reen123     3         okayish book\n",
            "bac001    lim1212     4         it is a textbook. What do you expect?\n",
            "bsf002    kessler12   5         eye-opening book. Must read!\n",
            "bcs003    mom999      5         nice illustration. Easy to read out\n",
            "bsf004    george88    2         the wordings may be a bit hard for kid\n",
            "bac001    ns0216      5       Amazing Book!\n",
            "bcs003    ns0216      4    Love it\n",
            "\n"
          ]
        }
      ],
      "source": [
        "import os\n",
        "with open(\"reviews.txt\", \"r\") as file:\n",
        "    print(file.read())"
      ]
    },
    {
      "cell_type": "code",
      "execution_count": 23,
      "metadata": {
        "colab": {
          "base_uri": "https://localhost:8080/"
        },
        "id": "-9kGk3-1ZeeT",
        "outputId": "96377b4e-a582-420a-ad6b-49f02ce7be4a"
      },
      "outputs": [
        {
          "output_type": "stream",
          "name": "stdout",
          "text": [
            "bac001    11        3.09      3.47\n",
            "bsf002    15        4.00      4.20\n",
            "bcs003    5         4.80      4.84\n",
            "bsf004    8         3.00      3.40\n",
            "\n"
          ]
        }
      ],
      "source": [
        "import os\n",
        "with open(\"rating.txt\",\"r\") as file:\n",
        "    print(file.read())"
      ]
    },
    {
      "cell_type": "markdown",
      "source": [
        "# **Acknowledgment**\n",
        "\n",
        "I sincerely thank our course instructors, **Dr. Nur Hana Samsudin** and **Dr. Mohammad Ali Sarvghadi**, for their valuable guidance, support and feedback thought the semister . I would also like to thank teaching assistant **Gabriel Shimasaan Iorundu** for helping me whenever I was having a hard time.\n",
        "\n"
      ],
      "metadata": {
        "id": "0bhsoJOoD2gN"
      }
    }
  ],
  "metadata": {
    "colab": {
      "provenance": []
    },
    "kernelspec": {
      "display_name": "Python 3",
      "name": "python3"
    },
    "language_info": {
      "name": "python"
    }
  },
  "nbformat": 4,
  "nbformat_minor": 0
}